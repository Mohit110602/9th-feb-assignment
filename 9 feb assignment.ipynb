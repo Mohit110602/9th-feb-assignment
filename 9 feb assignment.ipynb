{
 "cells": [
  {
   "cell_type": "code",
   "execution_count": 2,
   "id": "1b809d2a-24f5-4dd3-bce4-b8a7a0779dcc",
   "metadata": {},
   "outputs": [
    {
     "name": "stdout",
     "output_type": "stream",
     "text": [
      "('Truck', 220, 10)\n"
     ]
    }
   ],
   "source": [
    "#1)\n",
    "class vehicle:\n",
    "    def __init__(self,name_of_vehicle, max_speed, average_of_vehicle):\n",
    "        self.name_of_vehicle=name_of_vehicle\n",
    "        self.max_speed=max_speed\n",
    "        self.average_of_vehicle=average_of_vehicle\n",
    "    def ret(self):\n",
    "        return(self.name_of_vehicle,self.max_speed,self.average_of_vehicle)\n",
    "a=vehicle('Truck',220,10)\n",
    "print(a.ret())"
   ]
  },
  {
   "cell_type": "code",
   "execution_count": 3,
   "id": "198e0e7f-4346-4580-8fbc-a079d5f946fb",
   "metadata": {},
   "outputs": [
    {
     "name": "stdout",
     "output_type": "stream",
     "text": [
      "(4, 'Honda')\n"
     ]
    }
   ],
   "source": [
    "#2)\n",
    "class car(vehicle):\n",
    "    def seating_capacity(self,capacity):\n",
    "        self.seating_capacity=capacity\n",
    "        return(self.seating_capacity,self.name_of_vehicle)\n",
    "a=car('Honda',220,10)\n",
    "print(a.seating_capacity(4))"
   ]
  },
  {
   "cell_type": "code",
   "execution_count": 4,
   "id": "1caf1ad5-3bf8-4585-8571-ca5460269244",
   "metadata": {},
   "outputs": [
    {
     "name": "stdout",
     "output_type": "stream",
     "text": [
      "a\n",
      "b\n",
      "c\n"
     ]
    }
   ],
   "source": [
    "#3)\n",
    "'''Multiple Inheritance is said when a child class has two or more parent classes'''\n",
    "class c1:\n",
    "    def test(s):\n",
    "        print('a')\n",
    "class c2:\n",
    "    def test1(s):\n",
    "        print('b')\n",
    "class c3(c1,c2):\n",
    "    def test2(s):\n",
    "        print('c')\n",
    "a=c3()\n",
    "a.test()\n",
    "a.test1()\n",
    "a.test2()\n"
   ]
  },
  {
   "cell_type": "code",
   "execution_count": 7,
   "id": "399afd71-ee2f-42fa-8b16-7b24f8c7d571",
   "metadata": {},
   "outputs": [
    {
     "name": "stdout",
     "output_type": "stream",
     "text": [
      "The new no. is: 987654321\n"
     ]
    }
   ],
   "source": [
    "#4)\n",
    "'''Getters are use to get the values whereas setters are used to set the values. They are generally used at the time of private access modifiers.'''\n",
    "class c:\n",
    "    def __init__(s,number):\n",
    "        s.__number=number\n",
    "    def number_set(s,new_number):\n",
    "        s.__number=new_number\n",
    "    def number_get(s):\n",
    "        return s.__number\n",
    "a=c(12345678)\n",
    "a.number_set(987654321)\n",
    "print('The new no. is:',a.number_get())\n"
   ]
  },
  {
   "cell_type": "code",
   "execution_count": 8,
   "id": "2cc64f10-ec41-4ac5-8f54-01a8905864d1",
   "metadata": {},
   "outputs": [
    {
     "name": "stdout",
     "output_type": "stream",
     "text": [
      "This is c1 class\n",
      "This is c2 class\n"
     ]
    }
   ],
   "source": [
    "#5)\n",
    "'''Method overriding is achieved by inheritance when parent and child class has same method name and parameters,then the method called in a particular object is executed'''\n",
    "class c1:\n",
    "    def test(s):\n",
    "        print('This is c1 class')\n",
    "class c2(c1):\n",
    "    def test(s):\n",
    "        print('This is c2 class')\n",
    "a=c1()\n",
    "b=c2()\n",
    "a.test()\n",
    "b.test()"
   ]
  },
  {
   "cell_type": "code",
   "execution_count": null,
   "id": "5c5f1dc5-008d-48a3-87f0-4ca0f47842cc",
   "metadata": {},
   "outputs": [],
   "source": []
  }
 ],
 "metadata": {
  "kernelspec": {
   "display_name": "Python 3 (ipykernel)",
   "language": "python",
   "name": "python3"
  },
  "language_info": {
   "codemirror_mode": {
    "name": "ipython",
    "version": 3
   },
   "file_extension": ".py",
   "mimetype": "text/x-python",
   "name": "python",
   "nbconvert_exporter": "python",
   "pygments_lexer": "ipython3",
   "version": "3.10.8"
  }
 },
 "nbformat": 4,
 "nbformat_minor": 5
}
